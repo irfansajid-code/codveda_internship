{
 "cells": [
  {
   "cell_type": "markdown",
   "metadata": {},
   "source": [
    "### Task 2: Data Cleaning and Preprocessing"
   ]
  },
  {
   "cell_type": "code",
   "execution_count": 1,
   "metadata": {},
   "outputs": [],
   "source": [
    "## Description: Clean and preprocess a raw dataset to make it suitable for analysis.\n",
    "\n",
    "import pandas as pd\n",
    "import numpy as np\n",
    "import matplotlib.pyplot as plt\n",
    "import seaborn as sns\n",
    "import sklearn"
   ]
  },
  {
   "cell_type": "markdown",
   "metadata": {},
   "source": [
    "## I have Selected Stock Prices Dataset."
   ]
  },
  {
   "cell_type": "code",
   "execution_count": 13,
   "metadata": {},
   "outputs": [
    {
     "data": {
      "text/html": [
       "<div>\n",
       "<style scoped>\n",
       "    .dataframe tbody tr th:only-of-type {\n",
       "        vertical-align: middle;\n",
       "    }\n",
       "\n",
       "    .dataframe tbody tr th {\n",
       "        vertical-align: top;\n",
       "    }\n",
       "\n",
       "    .dataframe thead th {\n",
       "        text-align: right;\n",
       "    }\n",
       "</style>\n",
       "<table border=\"1\" class=\"dataframe\">\n",
       "  <thead>\n",
       "    <tr style=\"text-align: right;\">\n",
       "      <th></th>\n",
       "      <th>symbol</th>\n",
       "      <th>date</th>\n",
       "      <th>open</th>\n",
       "      <th>high</th>\n",
       "      <th>low</th>\n",
       "      <th>close</th>\n",
       "      <th>volume</th>\n",
       "    </tr>\n",
       "  </thead>\n",
       "  <tbody>\n",
       "    <tr>\n",
       "      <th>0</th>\n",
       "      <td>AAL</td>\n",
       "      <td>2014-01-02</td>\n",
       "      <td>25.0700</td>\n",
       "      <td>25.8200</td>\n",
       "      <td>25.0600</td>\n",
       "      <td>25.3600</td>\n",
       "      <td>8998943</td>\n",
       "    </tr>\n",
       "    <tr>\n",
       "      <th>1</th>\n",
       "      <td>AAPL</td>\n",
       "      <td>2014-01-02</td>\n",
       "      <td>79.3828</td>\n",
       "      <td>79.5756</td>\n",
       "      <td>78.8601</td>\n",
       "      <td>79.0185</td>\n",
       "      <td>58791957</td>\n",
       "    </tr>\n",
       "    <tr>\n",
       "      <th>2</th>\n",
       "      <td>AAP</td>\n",
       "      <td>2014-01-02</td>\n",
       "      <td>110.3600</td>\n",
       "      <td>111.8800</td>\n",
       "      <td>109.2900</td>\n",
       "      <td>109.7400</td>\n",
       "      <td>542711</td>\n",
       "    </tr>\n",
       "    <tr>\n",
       "      <th>3</th>\n",
       "      <td>ABBV</td>\n",
       "      <td>2014-01-02</td>\n",
       "      <td>52.1200</td>\n",
       "      <td>52.3300</td>\n",
       "      <td>51.5200</td>\n",
       "      <td>51.9800</td>\n",
       "      <td>4569061</td>\n",
       "    </tr>\n",
       "    <tr>\n",
       "      <th>4</th>\n",
       "      <td>ABC</td>\n",
       "      <td>2014-01-02</td>\n",
       "      <td>70.1100</td>\n",
       "      <td>70.2300</td>\n",
       "      <td>69.4800</td>\n",
       "      <td>69.8900</td>\n",
       "      <td>1148391</td>\n",
       "    </tr>\n",
       "  </tbody>\n",
       "</table>\n",
       "</div>"
      ],
      "text/plain": [
       "  symbol        date      open      high       low     close    volume\n",
       "0    AAL  2014-01-02   25.0700   25.8200   25.0600   25.3600   8998943\n",
       "1   AAPL  2014-01-02   79.3828   79.5756   78.8601   79.0185  58791957\n",
       "2    AAP  2014-01-02  110.3600  111.8800  109.2900  109.7400    542711\n",
       "3   ABBV  2014-01-02   52.1200   52.3300   51.5200   51.9800   4569061\n",
       "4    ABC  2014-01-02   70.1100   70.2300   69.4800   69.8900   1148391"
      ]
     },
     "execution_count": 13,
     "metadata": {},
     "output_type": "execute_result"
    }
   ],
   "source": [
    "# Loading the dataset\n",
    "dataset = pd.read_csv('Stock_Prices_Data_Set.csv')\n",
    "dataset.head()"
   ]
  },
  {
   "cell_type": "code",
   "execution_count": 14,
   "metadata": {},
   "outputs": [
    {
     "name": "stdout",
     "output_type": "stream",
     "text": [
      "Our dataset has 497472 rows and 7 columns.\n"
     ]
    }
   ],
   "source": [
    "# Shape of the dataset\n",
    "print(f\"Our dataset has {dataset.shape[0]} rows and {dataset.shape[1]} columns.\")"
   ]
  },
  {
   "cell_type": "markdown",
   "metadata": {},
   "source": [
    "-  Handle missing data (e.g., imputation, removal).\n"
   ]
  },
  {
   "cell_type": "code",
   "execution_count": 15,
   "metadata": {},
   "outputs": [
    {
     "data": {
      "text/plain": [
       "symbol     0\n",
       "date       0\n",
       "open      11\n",
       "high       8\n",
       "low        8\n",
       "close      0\n",
       "volume     0\n",
       "dtype: int64"
      ]
     },
     "execution_count": 15,
     "metadata": {},
     "output_type": "execute_result"
    }
   ],
   "source": [
    "# Check for missing values\n",
    "dataset.isnull().sum()"
   ]
  },
  {
   "cell_type": "code",
   "execution_count": 16,
   "metadata": {},
   "outputs": [
    {
     "name": "stdout",
     "output_type": "stream",
     "text": [
      "It is shown that from 497472 rows, the column open have only 11 missing values, \n",
      "and  hight have only 8 missing values and the low have also 8 missing values.\n"
     ]
    }
   ],
   "source": [
    "print(f\"\"\"It is shown that from 497472 rows, the column open have only 11 missing values, \n",
    "and  hight have only 8 missing values and the low have also 8 missing values.\"\"\")"
   ]
  },
  {
   "cell_type": "code",
   "execution_count": 17,
   "metadata": {},
   "outputs": [
    {
     "name": "stderr",
     "output_type": "stream",
     "text": [
      "C:\\Users\\Admin\\AppData\\Local\\Temp\\ipykernel_14152\\621404310.py:9: FutureWarning: A value is trying to be set on a copy of a DataFrame or Series through chained assignment using an inplace method.\n",
      "The behavior will change in pandas 3.0. This inplace method will never work because the intermediate object on which we are setting values always behaves as a copy.\n",
      "\n",
      "For example, when doing 'df[col].method(value, inplace=True)', try using 'df.method({col: value}, inplace=True)' or df[col] = df[col].method(value) instead, to perform the operation inplace on the original object.\n",
      "\n",
      "\n",
      "  dataset['open'].fillna(method='ffill', inplace=True)\n",
      "C:\\Users\\Admin\\AppData\\Local\\Temp\\ipykernel_14152\\621404310.py:9: FutureWarning: Series.fillna with 'method' is deprecated and will raise in a future version. Use obj.ffill() or obj.bfill() instead.\n",
      "  dataset['open'].fillna(method='ffill', inplace=True)\n",
      "C:\\Users\\Admin\\AppData\\Local\\Temp\\ipykernel_14152\\621404310.py:10: FutureWarning: A value is trying to be set on a copy of a DataFrame or Series through chained assignment using an inplace method.\n",
      "The behavior will change in pandas 3.0. This inplace method will never work because the intermediate object on which we are setting values always behaves as a copy.\n",
      "\n",
      "For example, when doing 'df[col].method(value, inplace=True)', try using 'df.method({col: value}, inplace=True)' or df[col] = df[col].method(value) instead, to perform the operation inplace on the original object.\n",
      "\n",
      "\n",
      "  dataset['high'].fillna(method='ffill', inplace=True)\n",
      "C:\\Users\\Admin\\AppData\\Local\\Temp\\ipykernel_14152\\621404310.py:10: FutureWarning: Series.fillna with 'method' is deprecated and will raise in a future version. Use obj.ffill() or obj.bfill() instead.\n",
      "  dataset['high'].fillna(method='ffill', inplace=True)\n",
      "C:\\Users\\Admin\\AppData\\Local\\Temp\\ipykernel_14152\\621404310.py:11: FutureWarning: A value is trying to be set on a copy of a DataFrame or Series through chained assignment using an inplace method.\n",
      "The behavior will change in pandas 3.0. This inplace method will never work because the intermediate object on which we are setting values always behaves as a copy.\n",
      "\n",
      "For example, when doing 'df[col].method(value, inplace=True)', try using 'df.method({col: value}, inplace=True)' or df[col] = df[col].method(value) instead, to perform the operation inplace on the original object.\n",
      "\n",
      "\n",
      "  dataset['low'].fillna(method='ffill', inplace=True)\n",
      "C:\\Users\\Admin\\AppData\\Local\\Temp\\ipykernel_14152\\621404310.py:11: FutureWarning: Series.fillna with 'method' is deprecated and will raise in a future version. Use obj.ffill() or obj.bfill() instead.\n",
      "  dataset['low'].fillna(method='ffill', inplace=True)\n"
     ]
    }
   ],
   "source": [
    "# Imputation of data\n",
    "# Forward Fill (ffill): Fill missing values with the last available price.\n",
    "#  Why is this useful?\n",
    "\n",
    "# Preserves the trend of stock price movements.\n",
    "\n",
    "# Works well when missing values are sparse and close together.\n",
    "\n",
    "dataset['open'].fillna(method='ffill', inplace=True)\n",
    "dataset['high'].fillna(method='ffill', inplace=True)\n",
    "dataset['low'].fillna(method='ffill', inplace=True)\n"
   ]
  },
  {
   "cell_type": "code",
   "execution_count": 18,
   "metadata": {},
   "outputs": [
    {
     "name": "stdout",
     "output_type": "stream",
     "text": [
      "symbol    0\n",
      "date      0\n",
      "open      0\n",
      "high      0\n",
      "low       0\n",
      "close     0\n",
      "volume    0\n",
      "dtype: int64\n",
      "Now our all missing values are filled with the last available price.\n"
     ]
    }
   ],
   "source": [
    "missings =  dataset.isnull().sum()\n",
    "print(missings)\n",
    "print(f\"Now our all missing values are filled with the last available price.\")\n",
    "# We can also remove these observations  as well because our missing were very small in number"
   ]
  },
  {
   "cell_type": "markdown",
   "metadata": {},
   "source": [
    "- Detect and remove outliers.\n"
   ]
  },
  {
   "cell_type": "code",
   "execution_count": 19,
   "metadata": {},
   "outputs": [
    {
     "name": "stdout",
     "output_type": "stream",
     "text": [
      " The total ouliers in open are 9105.\n",
      " The total ouliers in high are 9152.\n",
      " The total ouliers in low are 9061.\n",
      " The total ouliers in close are 9103.\n"
     ]
    }
   ],
   "source": [
    "def find_outlier(data, threshold=4):\n",
    "    q1 = data.quantile(0.25)\n",
    "    q3 = data.quantile(0.75)\n",
    "    iqr = q3 - q1\n",
    "    lower_bound = q1 - threshold * iqr\n",
    "    upper_bound = q3 + threshold * iqr\n",
    "    outlier = [x for x in  data if x < lower_bound or x > upper_bound]\n",
    "    return len(outlier)\n",
    "\n",
    "print(f\" The total ouliers in open are {find_outlier(dataset['open'])}.\")\n",
    "print(f\" The total ouliers in high are {find_outlier(dataset['high'])}.\")\n",
    "print(f\" The total ouliers in low are {find_outlier(dataset['low'])}.\")\n",
    "print(f\" The total ouliers in close are {find_outlier(dataset['close'])}.\")\n"
   ]
  },
  {
   "cell_type": "code",
   "execution_count": 20,
   "metadata": {},
   "outputs": [],
   "source": [
    "def find_outlier_condition(data, threshold=4):\n",
    "    \n",
    "    q1 = data.quantile(0.25)\n",
    "    q3 = data.quantile(0.75)\n",
    "    iqr = q3 - q1\n",
    "    lower_bound = q1 - threshold * iqr\n",
    "    upper_bound = q3 + threshold * iqr\n",
    "\n",
    "    return lower_bound, upper_bound\n",
    "\n",
    "open_lower, open_upper = find_outlier_condition(dataset['open'])\n",
    "high_lower, high_upper = find_outlier_condition(dataset['high'])\n",
    "low_lower, low_upper = find_outlier_condition(dataset['low'])\n",
    "close_lower, close_upper = find_outlier_condition(dataset['close'])\n"
   ]
  },
  {
   "cell_type": "code",
   "execution_count": 21,
   "metadata": {},
   "outputs": [
    {
     "name": "stdout",
     "output_type": "stream",
     "text": [
      "the lower bound of the open is -185.19\n",
      "the upper bound of the open is 325.28999999999996\n",
      "the lower bound of the high is -186.47\n",
      "the upper bound of the high is 327.79\n",
      "the lower bound of the low is -183.92\n",
      "the upper bound of the low is 322.78\n",
      "the lower bound of the close is -185.16125\n",
      "the upper bound of the close is 325.285\n"
     ]
    }
   ],
   "source": [
    "print(f\"the lower bound of the open is {open_lower}\")\n",
    "print(f\"the upper bound of the open is {open_upper}\")\n",
    "print(f\"the lower bound of the high is {high_lower}\")\n",
    "print(f\"the upper bound of the high is {high_upper}\")\n",
    "print(f\"the lower bound of the low is {low_lower}\")\n",
    "print(f\"the upper bound of the low is {low_upper}\")\n",
    "print(f\"the lower bound of the close is {close_lower}\")\n",
    "print(f\"the upper bound of the close is {close_upper}\")\n"
   ]
  },
  {
   "cell_type": "code",
   "execution_count": 22,
   "metadata": {},
   "outputs": [],
   "source": [
    "outlier_conditions = (\n",
    "    (dataset['open'] < open_lower) | (dataset['open'] > open_upper) |\n",
    "    (dataset['high'] < high_lower) | (dataset['high'] > high_upper) |\n",
    "    (dataset['low'] < low_lower)  | (dataset['low'] > low_upper) |\n",
    "    (dataset['close'] < close_lower) | (dataset['close'] > close_upper)\n",
    ")"
   ]
  },
  {
   "cell_type": "code",
   "execution_count": 23,
   "metadata": {},
   "outputs": [],
   "source": [
    "cleaned_dataset = dataset[~outlier_conditions]"
   ]
  },
  {
   "cell_type": "code",
   "execution_count": 24,
   "metadata": {},
   "outputs": [
    {
     "data": {
      "text/plain": [
       "(488266, 7)"
      ]
     },
     "execution_count": 24,
     "metadata": {},
     "output_type": "execute_result"
    }
   ],
   "source": [
    "cleaned_dataset.shape"
   ]
  },
  {
   "cell_type": "markdown",
   "metadata": {},
   "source": [
    "Now  Our dataset is fully cleaned and outliers removed."
   ]
  },
  {
   "cell_type": "code",
   "execution_count": 25,
   "metadata": {},
   "outputs": [
    {
     "name": "stdout",
     "output_type": "stream",
     "text": [
      " The total ouliers in open are 511.\n",
      " The total ouliers in high are 542.\n",
      " The total ouliers in low are 479.\n",
      " The total ouliers in close are 495.\n",
      "Now our dataset is cleaned and we have removed all the outliers.\n"
     ]
    }
   ],
   "source": [
    "print(f\" The total ouliers in open are {find_outlier(cleaned_dataset['open'])}.\")\n",
    "print(f\" The total ouliers in high are {find_outlier(cleaned_dataset['high'])}.\")\n",
    "print(f\" The total ouliers in low are {find_outlier(cleaned_dataset['low'])}.\")\n",
    "print(f\" The total ouliers in close are {find_outlier(cleaned_dataset['close'])}.\")\n",
    "print(f\"Now our dataset is cleaned and we have removed all the outliers.\")"
   ]
  },
  {
   "cell_type": "markdown",
   "metadata": {},
   "source": [
    "- Convert categorical variables into numerical format using one-hot encoding or label encoding.\n"
   ]
  },
  {
   "cell_type": "code",
   "execution_count": 26,
   "metadata": {},
   "outputs": [
    {
     "data": {
      "text/html": [
       "<div>\n",
       "<style scoped>\n",
       "    .dataframe tbody tr th:only-of-type {\n",
       "        vertical-align: middle;\n",
       "    }\n",
       "\n",
       "    .dataframe tbody tr th {\n",
       "        vertical-align: top;\n",
       "    }\n",
       "\n",
       "    .dataframe thead th {\n",
       "        text-align: right;\n",
       "    }\n",
       "</style>\n",
       "<table border=\"1\" class=\"dataframe\">\n",
       "  <thead>\n",
       "    <tr style=\"text-align: right;\">\n",
       "      <th></th>\n",
       "      <th>symbol</th>\n",
       "      <th>date</th>\n",
       "      <th>open</th>\n",
       "      <th>high</th>\n",
       "      <th>low</th>\n",
       "      <th>close</th>\n",
       "      <th>volume</th>\n",
       "    </tr>\n",
       "  </thead>\n",
       "  <tbody>\n",
       "    <tr>\n",
       "      <th>0</th>\n",
       "      <td>AAL</td>\n",
       "      <td>2014-01-02</td>\n",
       "      <td>25.0700</td>\n",
       "      <td>25.8200</td>\n",
       "      <td>25.0600</td>\n",
       "      <td>25.3600</td>\n",
       "      <td>8998943</td>\n",
       "    </tr>\n",
       "    <tr>\n",
       "      <th>1</th>\n",
       "      <td>AAPL</td>\n",
       "      <td>2014-01-02</td>\n",
       "      <td>79.3828</td>\n",
       "      <td>79.5756</td>\n",
       "      <td>78.8601</td>\n",
       "      <td>79.0185</td>\n",
       "      <td>58791957</td>\n",
       "    </tr>\n",
       "    <tr>\n",
       "      <th>2</th>\n",
       "      <td>AAP</td>\n",
       "      <td>2014-01-02</td>\n",
       "      <td>110.3600</td>\n",
       "      <td>111.8800</td>\n",
       "      <td>109.2900</td>\n",
       "      <td>109.7400</td>\n",
       "      <td>542711</td>\n",
       "    </tr>\n",
       "    <tr>\n",
       "      <th>3</th>\n",
       "      <td>ABBV</td>\n",
       "      <td>2014-01-02</td>\n",
       "      <td>52.1200</td>\n",
       "      <td>52.3300</td>\n",
       "      <td>51.5200</td>\n",
       "      <td>51.9800</td>\n",
       "      <td>4569061</td>\n",
       "    </tr>\n",
       "    <tr>\n",
       "      <th>4</th>\n",
       "      <td>ABC</td>\n",
       "      <td>2014-01-02</td>\n",
       "      <td>70.1100</td>\n",
       "      <td>70.2300</td>\n",
       "      <td>69.4800</td>\n",
       "      <td>69.8900</td>\n",
       "      <td>1148391</td>\n",
       "    </tr>\n",
       "  </tbody>\n",
       "</table>\n",
       "</div>"
      ],
      "text/plain": [
       "  symbol        date      open      high       low     close    volume\n",
       "0    AAL  2014-01-02   25.0700   25.8200   25.0600   25.3600   8998943\n",
       "1   AAPL  2014-01-02   79.3828   79.5756   78.8601   79.0185  58791957\n",
       "2    AAP  2014-01-02  110.3600  111.8800  109.2900  109.7400    542711\n",
       "3   ABBV  2014-01-02   52.1200   52.3300   51.5200   51.9800   4569061\n",
       "4    ABC  2014-01-02   70.1100   70.2300   69.4800   69.8900   1148391"
      ]
     },
     "execution_count": 26,
     "metadata": {},
     "output_type": "execute_result"
    }
   ],
   "source": [
    "cleaned_dataset.head()"
   ]
  },
  {
   "cell_type": "code",
   "execution_count": 27,
   "metadata": {},
   "outputs": [
    {
     "name": "stdout",
     "output_type": "stream",
     "text": [
      "There are 501 unique symbols in the dataset.\n"
     ]
    }
   ],
   "source": [
    "print(f\"There are {cleaned_dataset[\"symbol\"].nunique()} unique symbols in the dataset.\") "
   ]
  },
  {
   "cell_type": "code",
   "execution_count": 28,
   "metadata": {},
   "outputs": [
    {
     "name": "stderr",
     "output_type": "stream",
     "text": [
      "C:\\Users\\Admin\\AppData\\Local\\Temp\\ipykernel_14152\\2481466266.py:3: SettingWithCopyWarning: \n",
      "A value is trying to be set on a copy of a slice from a DataFrame.\n",
      "Try using .loc[row_indexer,col_indexer] = value instead\n",
      "\n",
      "See the caveats in the documentation: https://pandas.pydata.org/pandas-docs/stable/user_guide/indexing.html#returning-a-view-versus-a-copy\n",
      "  cleaned_dataset['symbol'] = encoder.fit_transform(cleaned_dataset['symbol'])\n"
     ]
    }
   ],
   "source": [
    "from sklearn.preprocessing import LabelEncoder\n",
    "encoder = LabelEncoder()\n",
    "cleaned_dataset['symbol'] = encoder.fit_transform(cleaned_dataset['symbol'])"
   ]
  },
  {
   "cell_type": "code",
   "execution_count": 29,
   "metadata": {},
   "outputs": [
    {
     "data": {
      "text/html": [
       "<div>\n",
       "<style scoped>\n",
       "    .dataframe tbody tr th:only-of-type {\n",
       "        vertical-align: middle;\n",
       "    }\n",
       "\n",
       "    .dataframe tbody tr th {\n",
       "        vertical-align: top;\n",
       "    }\n",
       "\n",
       "    .dataframe thead th {\n",
       "        text-align: right;\n",
       "    }\n",
       "</style>\n",
       "<table border=\"1\" class=\"dataframe\">\n",
       "  <thead>\n",
       "    <tr style=\"text-align: right;\">\n",
       "      <th></th>\n",
       "      <th>symbol</th>\n",
       "      <th>date</th>\n",
       "      <th>open</th>\n",
       "      <th>high</th>\n",
       "      <th>low</th>\n",
       "      <th>close</th>\n",
       "      <th>volume</th>\n",
       "    </tr>\n",
       "  </thead>\n",
       "  <tbody>\n",
       "    <tr>\n",
       "      <th>497467</th>\n",
       "      <td>496</td>\n",
       "      <td>2017-12-29</td>\n",
       "      <td>68.53</td>\n",
       "      <td>68.80</td>\n",
       "      <td>67.92</td>\n",
       "      <td>68.20</td>\n",
       "      <td>1046677</td>\n",
       "    </tr>\n",
       "    <tr>\n",
       "      <th>497468</th>\n",
       "      <td>497</td>\n",
       "      <td>2017-12-29</td>\n",
       "      <td>82.64</td>\n",
       "      <td>82.71</td>\n",
       "      <td>81.59</td>\n",
       "      <td>81.61</td>\n",
       "      <td>1347613</td>\n",
       "    </tr>\n",
       "    <tr>\n",
       "      <th>497469</th>\n",
       "      <td>498</td>\n",
       "      <td>2017-12-29</td>\n",
       "      <td>121.75</td>\n",
       "      <td>121.95</td>\n",
       "      <td>120.62</td>\n",
       "      <td>120.67</td>\n",
       "      <td>1023624</td>\n",
       "    </tr>\n",
       "    <tr>\n",
       "      <th>497470</th>\n",
       "      <td>499</td>\n",
       "      <td>2017-12-29</td>\n",
       "      <td>51.28</td>\n",
       "      <td>51.55</td>\n",
       "      <td>50.81</td>\n",
       "      <td>50.83</td>\n",
       "      <td>1261916</td>\n",
       "    </tr>\n",
       "    <tr>\n",
       "      <th>497471</th>\n",
       "      <td>500</td>\n",
       "      <td>2017-12-29</td>\n",
       "      <td>72.55</td>\n",
       "      <td>72.76</td>\n",
       "      <td>72.04</td>\n",
       "      <td>72.04</td>\n",
       "      <td>1704122</td>\n",
       "    </tr>\n",
       "  </tbody>\n",
       "</table>\n",
       "</div>"
      ],
      "text/plain": [
       "        symbol        date    open    high     low   close   volume\n",
       "497467     496  2017-12-29   68.53   68.80   67.92   68.20  1046677\n",
       "497468     497  2017-12-29   82.64   82.71   81.59   81.61  1347613\n",
       "497469     498  2017-12-29  121.75  121.95  120.62  120.67  1023624\n",
       "497470     499  2017-12-29   51.28   51.55   50.81   50.83  1261916\n",
       "497471     500  2017-12-29   72.55   72.76   72.04   72.04  1704122"
      ]
     },
     "execution_count": 29,
     "metadata": {},
     "output_type": "execute_result"
    }
   ],
   "source": [
    "cleaned_dataset.tail()"
   ]
  },
  {
   "cell_type": "markdown",
   "metadata": {},
   "source": [
    "- Normalize or standardize numerical data.\n"
   ]
  },
  {
   "cell_type": "code",
   "execution_count": 30,
   "metadata": {},
   "outputs": [
    {
     "data": {
      "text/html": [
       "<div>\n",
       "<style scoped>\n",
       "    .dataframe tbody tr th:only-of-type {\n",
       "        vertical-align: middle;\n",
       "    }\n",
       "\n",
       "    .dataframe tbody tr th {\n",
       "        vertical-align: top;\n",
       "    }\n",
       "\n",
       "    .dataframe thead th {\n",
       "        text-align: right;\n",
       "    }\n",
       "</style>\n",
       "<table border=\"1\" class=\"dataframe\">\n",
       "  <thead>\n",
       "    <tr style=\"text-align: right;\">\n",
       "      <th></th>\n",
       "      <th>symbol</th>\n",
       "      <th>date</th>\n",
       "      <th>open</th>\n",
       "      <th>high</th>\n",
       "      <th>low</th>\n",
       "      <th>close</th>\n",
       "      <th>volume</th>\n",
       "    </tr>\n",
       "  </thead>\n",
       "  <tbody>\n",
       "    <tr>\n",
       "      <th>0</th>\n",
       "      <td>1</td>\n",
       "      <td>2014-01-02</td>\n",
       "      <td>-1.019921</td>\n",
       "      <td>-1.010001</td>\n",
       "      <td>-1.015134</td>\n",
       "      <td>-1.014292</td>\n",
       "      <td>8998943</td>\n",
       "    </tr>\n",
       "    <tr>\n",
       "      <th>1</th>\n",
       "      <td>3</td>\n",
       "      <td>2014-01-02</td>\n",
       "      <td>0.071231</td>\n",
       "      <td>0.060759</td>\n",
       "      <td>0.075483</td>\n",
       "      <td>0.063546</td>\n",
       "      <td>58791957</td>\n",
       "    </tr>\n",
       "    <tr>\n",
       "      <th>2</th>\n",
       "      <td>2</td>\n",
       "      <td>2014-01-02</td>\n",
       "      <td>0.693568</td>\n",
       "      <td>0.704232</td>\n",
       "      <td>0.692347</td>\n",
       "      <td>0.680648</td>\n",
       "      <td>542711</td>\n",
       "    </tr>\n",
       "    <tr>\n",
       "      <th>3</th>\n",
       "      <td>4</td>\n",
       "      <td>2014-01-02</td>\n",
       "      <td>-0.476483</td>\n",
       "      <td>-0.481947</td>\n",
       "      <td>-0.478746</td>\n",
       "      <td>-0.479576</td>\n",
       "      <td>4569061</td>\n",
       "    </tr>\n",
       "    <tr>\n",
       "      <th>4</th>\n",
       "      <td>5</td>\n",
       "      <td>2014-01-02</td>\n",
       "      <td>-0.115061</td>\n",
       "      <td>-0.125396</td>\n",
       "      <td>-0.114667</td>\n",
       "      <td>-0.119818</td>\n",
       "      <td>1148391</td>\n",
       "    </tr>\n",
       "  </tbody>\n",
       "</table>\n",
       "</div>"
      ],
      "text/plain": [
       "   symbol        date      open      high       low     close    volume\n",
       "0       1  2014-01-02 -1.019921 -1.010001 -1.015134 -1.014292   8998943\n",
       "1       3  2014-01-02  0.071231  0.060759  0.075483  0.063546  58791957\n",
       "2       2  2014-01-02  0.693568  0.704232  0.692347  0.680648    542711\n",
       "3       4  2014-01-02 -0.476483 -0.481947 -0.478746 -0.479576   4569061\n",
       "4       5  2014-01-02 -0.115061 -0.125396 -0.114667 -0.119818   1148391"
      ]
     },
     "execution_count": 30,
     "metadata": {},
     "output_type": "execute_result"
    }
   ],
   "source": [
    "from sklearn.preprocessing import StandardScaler\n",
    "\n",
    "scaler = StandardScaler()\n",
    "scaled_data = cleaned_dataset.copy()\n",
    "scaled_data[['open', 'high', 'low', 'close']] = scaler.fit_transform(cleaned_dataset[['open', 'high', 'low', 'close']])\n",
    "scaled_data.head()"
   ]
  },
  {
   "cell_type": "markdown",
   "metadata": {},
   "source": [
    "Now our dataset is fully scalled , ouliters removed , fullfill missing values and ready to go for next step."
   ]
  },
  {
   "cell_type": "markdown",
   "metadata": {},
   "source": [
    "- Tools: Python, pandas, scikit-learn\n",
    "\n",
    "We use all the specified tools in our notebook."
   ]
  },
  {
   "cell_type": "code",
   "execution_count": 31,
   "metadata": {},
   "outputs": [
    {
     "name": "stdout",
     "output_type": "stream",
     "text": [
      "Cleaned and scaled dataset saved to 'cleaned_scaled_stock_prices.csv'.\n"
     ]
    }
   ],
   "source": [
    "# Save the cleaned and scaled dataset to a new CSV file\n",
    "scaled_data.to_csv('cleaned_scaled_stock_prices.csv', index=False)\n",
    "print(\"Cleaned and scaled dataset saved to 'cleaned_scaled_stock_prices.csv'.\")"
   ]
  }
 ],
 "metadata": {
  "kernelspec": {
   "display_name": ".venv",
   "language": "python",
   "name": "python3"
  },
  "language_info": {
   "codemirror_mode": {
    "name": "ipython",
    "version": 3
   },
   "file_extension": ".py",
   "mimetype": "text/x-python",
   "name": "python",
   "nbconvert_exporter": "python",
   "pygments_lexer": "ipython3",
   "version": "3.12.2"
  }
 },
 "nbformat": 4,
 "nbformat_minor": 2
}
